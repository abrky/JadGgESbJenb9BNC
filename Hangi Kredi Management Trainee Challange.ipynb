{
 "cells": [
  {
   "cell_type": "markdown",
   "id": "f181359d",
   "metadata": {},
   "source": [
    "**Background:**\n",
    "\n",
    "We are a small startup focusing mainly on providing machine learning solutions in the European banking market. We work on a variety of problems including fraud detection, sentiment classification and customer intention prediction and classification.\n",
    "\n",
    "We are interested in developing a robust machine learning system that leverages information coming from call center data.\n",
    "\n",
    "Ultimately, we are looking for ways to improve the success rate for calls made to customers for any product that our clients offer. Towards this goal we are working on designing an ever evolving machine learning product that offers high success outcomes while offering interpretability for our clients to make informed decisions.\n",
    "\n",
    "**Data Description:**\n",
    "\n",
    "The data comes from direct marketing efforts of a European banking institution. The marketing campaign involves making a phone call to a customer, often multiple times to ensure a product subscription, in this case a term deposit. Term deposits are usually short-term deposits with maturities ranging from one month to a few years. The customer must understand when buying a term deposit that they can withdraw their funds only after the term ends. All customer information that might reveal personal information is removed due to privacy concerns.\n",
    "\n",
    "**Attributes:**\n",
    "\n",
    "* age : age of customer (numeric)\n",
    "\n",
    "* job : type of job (categorical)\n",
    "\n",
    "* marital : marital status (categorical)\n",
    "\n",
    "* education (categorical)\n",
    "\n",
    "* default: has credit in default? (binary)\n",
    "\n",
    "* balance: average yearly balance, in euros (numeric)\n",
    "\n",
    "* housing: has a housing loan? (binary)\n",
    "\n",
    "* loan: has personal loan? (binary)\n",
    "\n",
    "* contact: contact communication type (categorical)\n",
    "\n",
    "* day: last contact day of the month (numeric)\n",
    "\n",
    "* month: last contact month of year (categorical)\n",
    "\n",
    "* duration: last contact duration, in seconds (numeric)\n",
    "\n",
    "* campaign: number of contacts performed during this campaign and for this client (numeric, includes last contact)\n",
    "\n",
    "**Output (desired target):**\n",
    "\n",
    "* y - has the client subscribed to a term deposit? (binary)\n",
    "\n",
    "**Download Data:**\n",
    "\n",
    "https://drive.google.com/file/d/1EW-XMnGfxn-qzGtGPa3v_C63Yqj2aGf7\n",
    "\n",
    "**Goal(s):**\n",
    "\n",
    "* Predict if the customer will subscribe (yes/no) to a term deposit (variable y)\n",
    "\n",
    "**Success Metric(s):**\n",
    "\n",
    "* Hit %81 or above accuracy by evaluating with 5-fold cross validation and reporting the average performance score.\n",
    "\n",
    "**Bonus(es):**\n",
    "\n",
    "* We are also interested in finding customers who are more likely to buy the investment product. Determine the segment(s) of customers our client should prioritize.\n",
    "\n",
    "* What makes the customers buy? Tell us which feature we should be focusing more on.\n",
    "\n",
    "**Submission Instructions:**\n",
    "* Project should be implemented with Python"
   ]
  },
  {
   "cell_type": "code",
   "execution_count": 1,
   "id": "2410ccea",
   "metadata": {},
   "outputs": [],
   "source": [
    "import pandas as pd\n",
    "import numpy as np\n",
    "import seaborn as sns\n",
    "import matplotlib.pyplot as plt"
   ]
  },
  {
   "cell_type": "code",
   "execution_count": 2,
   "id": "fd2b2ccc",
   "metadata": {
    "scrolled": false
   },
   "outputs": [
    {
     "data": {
      "text/html": [
       "<div>\n",
       "<style scoped>\n",
       "    .dataframe tbody tr th:only-of-type {\n",
       "        vertical-align: middle;\n",
       "    }\n",
       "\n",
       "    .dataframe tbody tr th {\n",
       "        vertical-align: top;\n",
       "    }\n",
       "\n",
       "    .dataframe thead th {\n",
       "        text-align: right;\n",
       "    }\n",
       "</style>\n",
       "<table border=\"1\" class=\"dataframe\">\n",
       "  <thead>\n",
       "    <tr style=\"text-align: right;\">\n",
       "      <th></th>\n",
       "      <th>age</th>\n",
       "      <th>job</th>\n",
       "      <th>marital</th>\n",
       "      <th>education</th>\n",
       "      <th>default</th>\n",
       "      <th>balance</th>\n",
       "      <th>housing</th>\n",
       "      <th>loan</th>\n",
       "      <th>contact</th>\n",
       "      <th>day</th>\n",
       "      <th>month</th>\n",
       "      <th>duration</th>\n",
       "      <th>campaign</th>\n",
       "      <th>y</th>\n",
       "    </tr>\n",
       "  </thead>\n",
       "  <tbody>\n",
       "    <tr>\n",
       "      <th>0</th>\n",
       "      <td>58</td>\n",
       "      <td>management</td>\n",
       "      <td>married</td>\n",
       "      <td>tertiary</td>\n",
       "      <td>no</td>\n",
       "      <td>2143</td>\n",
       "      <td>yes</td>\n",
       "      <td>no</td>\n",
       "      <td>unknown</td>\n",
       "      <td>5</td>\n",
       "      <td>may</td>\n",
       "      <td>261</td>\n",
       "      <td>1</td>\n",
       "      <td>no</td>\n",
       "    </tr>\n",
       "    <tr>\n",
       "      <th>1</th>\n",
       "      <td>44</td>\n",
       "      <td>technician</td>\n",
       "      <td>single</td>\n",
       "      <td>secondary</td>\n",
       "      <td>no</td>\n",
       "      <td>29</td>\n",
       "      <td>yes</td>\n",
       "      <td>no</td>\n",
       "      <td>unknown</td>\n",
       "      <td>5</td>\n",
       "      <td>may</td>\n",
       "      <td>151</td>\n",
       "      <td>1</td>\n",
       "      <td>no</td>\n",
       "    </tr>\n",
       "    <tr>\n",
       "      <th>2</th>\n",
       "      <td>33</td>\n",
       "      <td>entrepreneur</td>\n",
       "      <td>married</td>\n",
       "      <td>secondary</td>\n",
       "      <td>no</td>\n",
       "      <td>2</td>\n",
       "      <td>yes</td>\n",
       "      <td>yes</td>\n",
       "      <td>unknown</td>\n",
       "      <td>5</td>\n",
       "      <td>may</td>\n",
       "      <td>76</td>\n",
       "      <td>1</td>\n",
       "      <td>no</td>\n",
       "    </tr>\n",
       "    <tr>\n",
       "      <th>3</th>\n",
       "      <td>47</td>\n",
       "      <td>blue-collar</td>\n",
       "      <td>married</td>\n",
       "      <td>unknown</td>\n",
       "      <td>no</td>\n",
       "      <td>1506</td>\n",
       "      <td>yes</td>\n",
       "      <td>no</td>\n",
       "      <td>unknown</td>\n",
       "      <td>5</td>\n",
       "      <td>may</td>\n",
       "      <td>92</td>\n",
       "      <td>1</td>\n",
       "      <td>no</td>\n",
       "    </tr>\n",
       "    <tr>\n",
       "      <th>4</th>\n",
       "      <td>33</td>\n",
       "      <td>unknown</td>\n",
       "      <td>single</td>\n",
       "      <td>unknown</td>\n",
       "      <td>no</td>\n",
       "      <td>1</td>\n",
       "      <td>no</td>\n",
       "      <td>no</td>\n",
       "      <td>unknown</td>\n",
       "      <td>5</td>\n",
       "      <td>may</td>\n",
       "      <td>198</td>\n",
       "      <td>1</td>\n",
       "      <td>no</td>\n",
       "    </tr>\n",
       "  </tbody>\n",
       "</table>\n",
       "</div>"
      ],
      "text/plain": [
       "   age           job  marital  education default  balance housing loan  \\\n",
       "0   58    management  married   tertiary      no     2143     yes   no   \n",
       "1   44    technician   single  secondary      no       29     yes   no   \n",
       "2   33  entrepreneur  married  secondary      no        2     yes  yes   \n",
       "3   47   blue-collar  married    unknown      no     1506     yes   no   \n",
       "4   33       unknown   single    unknown      no        1      no   no   \n",
       "\n",
       "   contact  day month  duration  campaign   y  \n",
       "0  unknown    5   may       261         1  no  \n",
       "1  unknown    5   may       151         1  no  \n",
       "2  unknown    5   may        76         1  no  \n",
       "3  unknown    5   may        92         1  no  \n",
       "4  unknown    5   may       198         1  no  "
      ]
     },
     "execution_count": 2,
     "metadata": {},
     "output_type": "execute_result"
    }
   ],
   "source": [
    "data = pd.read_csv(\"term-deposit-marketing-2020.csv\"); data.head()"
   ]
  },
  {
   "cell_type": "code",
   "execution_count": 3,
   "id": "c0e1f146",
   "metadata": {},
   "outputs": [],
   "source": [
    "#Instead of keeping the month and day seperately, I merge it in one column. \n",
    "data[\"date\"] = data[\"month\"].map(str) + \"-\" + data[\"day\"].map(str)"
   ]
  },
  {
   "cell_type": "code",
   "execution_count": 4,
   "id": "df2becf4",
   "metadata": {},
   "outputs": [],
   "source": [
    "#calculate days passed after last time contact and save it in the column. Last day is taken as today.\n",
    "data[\"days_without_contact\"] = (pd.to_datetime(data.date,format=\"%b-%d\").max() - pd.to_datetime(data.date,format=\"%b-%d\")).dt.days"
   ]
  },
  {
   "cell_type": "code",
   "execution_count": 5,
   "id": "34dcf5eb",
   "metadata": {},
   "outputs": [],
   "source": [
    "#instead of keeping dates, days passed after last time contacted is preserved. Thus we construct a relationship\n",
    "#between the duration and whether a client subscribe a term deposit or not.\n",
    "data.drop(columns=[\"day\",\"month\",\"date\"],inplace=True)"
   ]
  },
  {
   "cell_type": "code",
   "execution_count": 6,
   "id": "b6dafd91",
   "metadata": {},
   "outputs": [],
   "source": [
    "#Reorganising the columns\n",
    "data = data[[\"age\",\"job\",\"marital\",\"education\",\"default\",\"balance\",\"housing\",\"loan\",\"contact\",\"days_without_contact\",\"duration\",\"campaign\",\"y\"]]"
   ]
  },
  {
   "cell_type": "code",
   "execution_count": 7,
   "id": "d66a3513",
   "metadata": {},
   "outputs": [],
   "source": [
    "#Instead of yes, 1 is used and instead of no, 0 is used since models cannot handle categorical variables.\n",
    "data.y = data.y.replace({\"no\":0,\"yes\":1})\n",
    "#Same procedures applied all the columns that contains yes and no.\n",
    "#pd.get_dummies functions also applicible\n",
    "data.default = data.default.replace({\"no\":0,\"yes\":1})\n",
    "data.housing = data.housing.replace({\"no\":0,\"yes\":1})\n",
    "data.loan = data.loan.replace({\"no\":0,\"yes\":1})"
   ]
  },
  {
   "cell_type": "code",
   "execution_count": 8,
   "id": "11383cb1",
   "metadata": {},
   "outputs": [
    {
     "name": "stdout",
     "output_type": "stream",
     "text": [
      "age [58 44 33 47 35 28 42 43 41 29 53 57 51 45 60 56 32 25 40 39 52 46 36 49\n",
      " 59 37 50 54 55 48 24 38 31 30 27 34 23 26 61 22 21 20 66 62 83 75 67 70\n",
      " 65 68 64 69 72 71 19 76 85 63 90 82 73 74 78 80 94 79 77 86 95 81]\n",
      "job ['management' 'technician' 'entrepreneur' 'blue-collar' 'unknown'\n",
      " 'retired' 'admin' 'services' 'self-employed' 'unemployed' 'housemaid'\n",
      " 'student']\n",
      "marital ['married' 'single' 'divorced']\n",
      "education ['tertiary' 'secondary' 'unknown' 'primary']\n",
      "default [0 1]\n",
      "balance [  2143     29      2 ...   7222   3402 102127]\n",
      "housing [1 0]\n",
      "loan [0 1]\n",
      "contact ['unknown' 'cellular' 'telephone']\n",
      "days_without_contact [236 235 234 233 232 229 228 227 226 225 222 221 220 218 215 214 213 212\n",
      " 211 208 207 206 205 204 201 199 198 194 193 192 191 190 187 186 185 184\n",
      " 183 180 179 178 177 176 173 172 171 170 169 166 165 164 163 162 159 158\n",
      " 157 156 155 152 151 150 149 145 144 143 142 141 138 137 136 135 131 130\n",
      " 129 128 127 124 123 122 121 120  71  70  69  68  67  66  65  64  63  62\n",
      "  61  60  59  58  57  53  52  51  49  48  47  46  45  44  43  40  39  38\n",
      "  37  36  35  30  23  22  20  19  18  16  15  14   5   0 333 332 331 328\n",
      " 327 326 325 324 321 320 319 318 317 314 313 312 311 304 303 300 299 298\n",
      " 297 296 293 292 291 290 289 286 285 284 283 282 279 278 277 276 275 272\n",
      " 271 270 269 268 265 264 263 262 258 257 256 255 254 251 250 249 248 247\n",
      " 244 243 242 241 237 230 223 219 216 209]\n",
      "duration [ 261  151   76 ... 1880 1460 2219]\n",
      "campaign [ 1  2  3  5  4  6  7  8  9 10 11 12 13 19 14 24 16 32 18 22 15 17 25 21\n",
      " 43 51 63 41 26 28 55 50 38 23 20 29 31 37 30 46 27 58 33 35 34 36 39 44]\n",
      "y [0 1]\n"
     ]
    }
   ],
   "source": [
    "#Detecting the unknown variables\n",
    "for i in data.columns:\n",
    "    print(i,data[i].unique())"
   ]
  },
  {
   "cell_type": "code",
   "execution_count": 9,
   "id": "a5d49eff",
   "metadata": {},
   "outputs": [
    {
     "data": {
      "text/plain": [
       "blue-collar      9383\n",
       "management       8166\n",
       "technician       6852\n",
       "admin            4483\n",
       "services         3910\n",
       "retired          1437\n",
       "self-employed    1414\n",
       "entrepreneur     1405\n",
       "unemployed       1104\n",
       "housemaid        1087\n",
       "student           524\n",
       "unknown           235\n",
       "Name: job, dtype: int64"
      ]
     },
     "execution_count": 9,
     "metadata": {},
     "output_type": "execute_result"
    }
   ],
   "source": [
    "data.job.value_counts()"
   ]
  },
  {
   "cell_type": "code",
   "execution_count": 10,
   "id": "3e8589f7",
   "metadata": {},
   "outputs": [
    {
     "data": {
      "text/plain": [
       "secondary    20993\n",
       "tertiary     11206\n",
       "primary       6270\n",
       "unknown       1531\n",
       "Name: education, dtype: int64"
      ]
     },
     "execution_count": 10,
     "metadata": {},
     "output_type": "execute_result"
    }
   ],
   "source": [
    "data.education.value_counts()"
   ]
  },
  {
   "cell_type": "code",
   "execution_count": 11,
   "id": "fc7b9450",
   "metadata": {},
   "outputs": [],
   "source": [
    "#Let's drop the unknown variables from education and job columns\n",
    "data = data[(data.job != \"unknown\")&(data.education !=\"unknown\")]"
   ]
  },
  {
   "cell_type": "code",
   "execution_count": 12,
   "id": "dc8e7174",
   "metadata": {},
   "outputs": [
    {
     "data": {
      "text/html": [
       "<div>\n",
       "<style scoped>\n",
       "    .dataframe tbody tr th:only-of-type {\n",
       "        vertical-align: middle;\n",
       "    }\n",
       "\n",
       "    .dataframe tbody tr th {\n",
       "        vertical-align: top;\n",
       "    }\n",
       "\n",
       "    .dataframe thead th {\n",
       "        text-align: right;\n",
       "    }\n",
       "</style>\n",
       "<table border=\"1\" class=\"dataframe\">\n",
       "  <thead>\n",
       "    <tr style=\"text-align: right;\">\n",
       "      <th>y</th>\n",
       "      <th>0</th>\n",
       "      <th>1</th>\n",
       "    </tr>\n",
       "    <tr>\n",
       "      <th>contact</th>\n",
       "      <th></th>\n",
       "      <th></th>\n",
       "    </tr>\n",
       "  </thead>\n",
       "  <tbody>\n",
       "    <tr>\n",
       "      <th>cellular</th>\n",
       "      <td>21946</td>\n",
       "      <td>2162</td>\n",
       "    </tr>\n",
       "    <tr>\n",
       "      <th>telephone</th>\n",
       "      <td>2034</td>\n",
       "      <td>153</td>\n",
       "    </tr>\n",
       "    <tr>\n",
       "      <th>unknown</th>\n",
       "      <td>11566</td>\n",
       "      <td>477</td>\n",
       "    </tr>\n",
       "  </tbody>\n",
       "</table>\n",
       "</div>"
      ],
      "text/plain": [
       "y              0     1\n",
       "contact               \n",
       "cellular   21946  2162\n",
       "telephone   2034   153\n",
       "unknown    11566   477"
      ]
     },
     "execution_count": 12,
     "metadata": {},
     "output_type": "execute_result"
    }
   ],
   "source": [
    "#Since there are lots of unknown contact type, let's check the relationship between acceptance rate and contact type\n",
    "df_contact = pd.crosstab(index=data.contact,columns=data.y);df_contact"
   ]
  },
  {
   "cell_type": "code",
   "execution_count": 13,
   "id": "e11ea12a",
   "metadata": {},
   "outputs": [],
   "source": [
    "#Let's change the index and column name for better reading\n",
    "df_contact.set_axis([\"Not_Subscribed\",\"Subscribed\"],axis=1,inplace=True)"
   ]
  },
  {
   "cell_type": "code",
   "execution_count": 14,
   "id": "b02419ce",
   "metadata": {},
   "outputs": [],
   "source": [
    "#Let's find out the percentage of subscribed and not subscribed \n",
    "df_contact[\"%Subscribed\"] = df_contact[\"Subscribed\"]/df_contact.apply(sum,axis=1)\n",
    "df_contact[\"%Not_Subscribed\"] =df_contact[\"Not_Subscribed\"]/df_contact.apply(sum,axis=1)"
   ]
  },
  {
   "cell_type": "code",
   "execution_count": 15,
   "id": "8f015725",
   "metadata": {},
   "outputs": [
    {
     "data": {
      "text/html": [
       "<div>\n",
       "<style scoped>\n",
       "    .dataframe tbody tr th:only-of-type {\n",
       "        vertical-align: middle;\n",
       "    }\n",
       "\n",
       "    .dataframe tbody tr th {\n",
       "        vertical-align: top;\n",
       "    }\n",
       "\n",
       "    .dataframe thead th {\n",
       "        text-align: right;\n",
       "    }\n",
       "</style>\n",
       "<table border=\"1\" class=\"dataframe\">\n",
       "  <thead>\n",
       "    <tr style=\"text-align: right;\">\n",
       "      <th></th>\n",
       "      <th>Not_Subscribed</th>\n",
       "      <th>Subscribed</th>\n",
       "      <th>%Subscribed</th>\n",
       "      <th>%Not_Subscribed</th>\n",
       "    </tr>\n",
       "    <tr>\n",
       "      <th>contact</th>\n",
       "      <th></th>\n",
       "      <th></th>\n",
       "      <th></th>\n",
       "      <th></th>\n",
       "    </tr>\n",
       "  </thead>\n",
       "  <tbody>\n",
       "    <tr>\n",
       "      <th>cellular</th>\n",
       "      <td>21946</td>\n",
       "      <td>2162</td>\n",
       "      <td>0.089680</td>\n",
       "      <td>0.910317</td>\n",
       "    </tr>\n",
       "    <tr>\n",
       "      <th>telephone</th>\n",
       "      <td>2034</td>\n",
       "      <td>153</td>\n",
       "      <td>0.069959</td>\n",
       "      <td>0.930011</td>\n",
       "    </tr>\n",
       "    <tr>\n",
       "      <th>unknown</th>\n",
       "      <td>11566</td>\n",
       "      <td>477</td>\n",
       "      <td>0.039608</td>\n",
       "      <td>0.960389</td>\n",
       "    </tr>\n",
       "  </tbody>\n",
       "</table>\n",
       "</div>"
      ],
      "text/plain": [
       "           Not_Subscribed  Subscribed  %Subscribed  %Not_Subscribed\n",
       "contact                                                            \n",
       "cellular            21946        2162     0.089680         0.910317\n",
       "telephone            2034         153     0.069959         0.930011\n",
       "unknown             11566         477     0.039608         0.960389"
      ]
     },
     "execution_count": 15,
     "metadata": {},
     "output_type": "execute_result"
    }
   ],
   "source": [
    "df_contact"
   ]
  },
  {
   "cell_type": "code",
   "execution_count": 16,
   "id": "18efa977",
   "metadata": {},
   "outputs": [],
   "source": [
    "#The % ratio are really close to each other for cellular and telephone type of communication,\n",
    "#so there is no meaning of keeping contact columns since it seems that there are no corrolation\n",
    "#between contact type and subscription\n",
    "data.drop(columns=\"contact\",inplace=True)"
   ]
  },
  {
   "cell_type": "code",
   "execution_count": 17,
   "id": "72bbb73d",
   "metadata": {},
   "outputs": [
    {
     "data": {
      "text/html": [
       "<div>\n",
       "<style scoped>\n",
       "    .dataframe tbody tr th:only-of-type {\n",
       "        vertical-align: middle;\n",
       "    }\n",
       "\n",
       "    .dataframe tbody tr th {\n",
       "        vertical-align: top;\n",
       "    }\n",
       "\n",
       "    .dataframe thead th {\n",
       "        text-align: right;\n",
       "    }\n",
       "</style>\n",
       "<table border=\"1\" class=\"dataframe\">\n",
       "  <thead>\n",
       "    <tr style=\"text-align: right;\">\n",
       "      <th></th>\n",
       "      <th>age</th>\n",
       "      <th>job</th>\n",
       "      <th>marital</th>\n",
       "      <th>education</th>\n",
       "      <th>default</th>\n",
       "      <th>balance</th>\n",
       "      <th>housing</th>\n",
       "      <th>loan</th>\n",
       "      <th>days_without_contact</th>\n",
       "      <th>duration</th>\n",
       "      <th>campaign</th>\n",
       "      <th>y</th>\n",
       "    </tr>\n",
       "  </thead>\n",
       "  <tbody>\n",
       "    <tr>\n",
       "      <th>0</th>\n",
       "      <td>58</td>\n",
       "      <td>management</td>\n",
       "      <td>married</td>\n",
       "      <td>tertiary</td>\n",
       "      <td>0</td>\n",
       "      <td>2143</td>\n",
       "      <td>1</td>\n",
       "      <td>0</td>\n",
       "      <td>236</td>\n",
       "      <td>261</td>\n",
       "      <td>1</td>\n",
       "      <td>0</td>\n",
       "    </tr>\n",
       "    <tr>\n",
       "      <th>1</th>\n",
       "      <td>44</td>\n",
       "      <td>technician</td>\n",
       "      <td>single</td>\n",
       "      <td>secondary</td>\n",
       "      <td>0</td>\n",
       "      <td>29</td>\n",
       "      <td>1</td>\n",
       "      <td>0</td>\n",
       "      <td>236</td>\n",
       "      <td>151</td>\n",
       "      <td>1</td>\n",
       "      <td>0</td>\n",
       "    </tr>\n",
       "    <tr>\n",
       "      <th>2</th>\n",
       "      <td>33</td>\n",
       "      <td>entrepreneur</td>\n",
       "      <td>married</td>\n",
       "      <td>secondary</td>\n",
       "      <td>0</td>\n",
       "      <td>2</td>\n",
       "      <td>1</td>\n",
       "      <td>1</td>\n",
       "      <td>236</td>\n",
       "      <td>76</td>\n",
       "      <td>1</td>\n",
       "      <td>0</td>\n",
       "    </tr>\n",
       "    <tr>\n",
       "      <th>5</th>\n",
       "      <td>35</td>\n",
       "      <td>management</td>\n",
       "      <td>married</td>\n",
       "      <td>tertiary</td>\n",
       "      <td>0</td>\n",
       "      <td>231</td>\n",
       "      <td>1</td>\n",
       "      <td>0</td>\n",
       "      <td>236</td>\n",
       "      <td>139</td>\n",
       "      <td>1</td>\n",
       "      <td>0</td>\n",
       "    </tr>\n",
       "    <tr>\n",
       "      <th>6</th>\n",
       "      <td>28</td>\n",
       "      <td>management</td>\n",
       "      <td>single</td>\n",
       "      <td>tertiary</td>\n",
       "      <td>0</td>\n",
       "      <td>447</td>\n",
       "      <td>1</td>\n",
       "      <td>1</td>\n",
       "      <td>236</td>\n",
       "      <td>217</td>\n",
       "      <td>1</td>\n",
       "      <td>0</td>\n",
       "    </tr>\n",
       "    <tr>\n",
       "      <th>...</th>\n",
       "      <td>...</td>\n",
       "      <td>...</td>\n",
       "      <td>...</td>\n",
       "      <td>...</td>\n",
       "      <td>...</td>\n",
       "      <td>...</td>\n",
       "      <td>...</td>\n",
       "      <td>...</td>\n",
       "      <td>...</td>\n",
       "      <td>...</td>\n",
       "      <td>...</td>\n",
       "      <td>...</td>\n",
       "    </tr>\n",
       "    <tr>\n",
       "      <th>39995</th>\n",
       "      <td>53</td>\n",
       "      <td>technician</td>\n",
       "      <td>married</td>\n",
       "      <td>tertiary</td>\n",
       "      <td>0</td>\n",
       "      <td>395</td>\n",
       "      <td>0</td>\n",
       "      <td>0</td>\n",
       "      <td>207</td>\n",
       "      <td>107</td>\n",
       "      <td>1</td>\n",
       "      <td>0</td>\n",
       "    </tr>\n",
       "    <tr>\n",
       "      <th>39996</th>\n",
       "      <td>30</td>\n",
       "      <td>management</td>\n",
       "      <td>single</td>\n",
       "      <td>tertiary</td>\n",
       "      <td>0</td>\n",
       "      <td>3340</td>\n",
       "      <td>0</td>\n",
       "      <td>0</td>\n",
       "      <td>207</td>\n",
       "      <td>238</td>\n",
       "      <td>3</td>\n",
       "      <td>1</td>\n",
       "    </tr>\n",
       "    <tr>\n",
       "      <th>39997</th>\n",
       "      <td>54</td>\n",
       "      <td>admin</td>\n",
       "      <td>divorced</td>\n",
       "      <td>secondary</td>\n",
       "      <td>0</td>\n",
       "      <td>200</td>\n",
       "      <td>0</td>\n",
       "      <td>0</td>\n",
       "      <td>207</td>\n",
       "      <td>170</td>\n",
       "      <td>1</td>\n",
       "      <td>1</td>\n",
       "    </tr>\n",
       "    <tr>\n",
       "      <th>39998</th>\n",
       "      <td>34</td>\n",
       "      <td>management</td>\n",
       "      <td>married</td>\n",
       "      <td>tertiary</td>\n",
       "      <td>0</td>\n",
       "      <td>1047</td>\n",
       "      <td>0</td>\n",
       "      <td>0</td>\n",
       "      <td>207</td>\n",
       "      <td>342</td>\n",
       "      <td>1</td>\n",
       "      <td>0</td>\n",
       "    </tr>\n",
       "    <tr>\n",
       "      <th>39999</th>\n",
       "      <td>38</td>\n",
       "      <td>technician</td>\n",
       "      <td>married</td>\n",
       "      <td>secondary</td>\n",
       "      <td>0</td>\n",
       "      <td>1442</td>\n",
       "      <td>1</td>\n",
       "      <td>0</td>\n",
       "      <td>207</td>\n",
       "      <td>113</td>\n",
       "      <td>1</td>\n",
       "      <td>0</td>\n",
       "    </tr>\n",
       "  </tbody>\n",
       "</table>\n",
       "<p>38338 rows × 12 columns</p>\n",
       "</div>"
      ],
      "text/plain": [
       "       age           job   marital  education  default  balance  housing  \\\n",
       "0       58    management   married   tertiary        0     2143        1   \n",
       "1       44    technician    single  secondary        0       29        1   \n",
       "2       33  entrepreneur   married  secondary        0        2        1   \n",
       "5       35    management   married   tertiary        0      231        1   \n",
       "6       28    management    single   tertiary        0      447        1   \n",
       "...    ...           ...       ...        ...      ...      ...      ...   \n",
       "39995   53    technician   married   tertiary        0      395        0   \n",
       "39996   30    management    single   tertiary        0     3340        0   \n",
       "39997   54         admin  divorced  secondary        0      200        0   \n",
       "39998   34    management   married   tertiary        0     1047        0   \n",
       "39999   38    technician   married  secondary        0     1442        1   \n",
       "\n",
       "       loan  days_without_contact  duration  campaign  y  \n",
       "0         0                   236       261         1  0  \n",
       "1         0                   236       151         1  0  \n",
       "2         1                   236        76         1  0  \n",
       "5         0                   236       139         1  0  \n",
       "6         1                   236       217         1  0  \n",
       "...     ...                   ...       ...       ... ..  \n",
       "39995     0                   207       107         1  0  \n",
       "39996     0                   207       238         3  1  \n",
       "39997     0                   207       170         1  1  \n",
       "39998     0                   207       342         1  0  \n",
       "39999     0                   207       113         1  0  \n",
       "\n",
       "[38338 rows x 12 columns]"
      ]
     },
     "execution_count": 17,
     "metadata": {},
     "output_type": "execute_result"
    }
   ],
   "source": [
    "data"
   ]
  },
  {
   "cell_type": "code",
   "execution_count": 18,
   "id": "23a67cf2",
   "metadata": {},
   "outputs": [],
   "source": [
    "data.reset_index(drop=True,inplace=True)"
   ]
  },
  {
   "cell_type": "code",
   "execution_count": 19,
   "id": "1ed200f9",
   "metadata": {},
   "outputs": [
    {
     "name": "stdout",
     "output_type": "stream",
     "text": [
      "<class 'pandas.core.frame.DataFrame'>\n",
      "RangeIndex: 38338 entries, 0 to 38337\n",
      "Data columns (total 12 columns):\n",
      " #   Column                Non-Null Count  Dtype \n",
      "---  ------                --------------  ----- \n",
      " 0   age                   38338 non-null  int64 \n",
      " 1   job                   38338 non-null  object\n",
      " 2   marital               38338 non-null  object\n",
      " 3   education             38338 non-null  object\n",
      " 4   default               38338 non-null  int64 \n",
      " 5   balance               38338 non-null  int64 \n",
      " 6   housing               38338 non-null  int64 \n",
      " 7   loan                  38338 non-null  int64 \n",
      " 8   days_without_contact  38338 non-null  int64 \n",
      " 9   duration              38338 non-null  int64 \n",
      " 10  campaign              38338 non-null  int64 \n",
      " 11  y                     38338 non-null  int64 \n",
      "dtypes: int64(9), object(3)\n",
      "memory usage: 3.5+ MB\n"
     ]
    }
   ],
   "source": [
    "data.info()"
   ]
  },
  {
   "cell_type": "code",
   "execution_count": 20,
   "id": "a2622208",
   "metadata": {},
   "outputs": [],
   "source": [
    "from sklearn.preprocessing import LabelEncoder, StandardScaler"
   ]
  },
  {
   "cell_type": "code",
   "execution_count": 21,
   "id": "282e5d4b",
   "metadata": {
    "scrolled": true
   },
   "outputs": [],
   "source": [
    "#Turn all the categorical variables to numeric variables\n",
    "#as machine learning algorithms cannot handle the categorical variables.\n",
    "LE = LabelEncoder()\n",
    "for i in data.dtypes.index:\n",
    "    if data.dtypes.loc[i] == \"O\":\n",
    "        data[i]=data[[i]].apply(LE.fit_transform)"
   ]
  },
  {
   "cell_type": "code",
   "execution_count": 22,
   "id": "cb8e419b",
   "metadata": {
    "scrolled": true
   },
   "outputs": [
    {
     "name": "stdout",
     "output_type": "stream",
     "text": [
      "<class 'pandas.core.frame.DataFrame'>\n",
      "RangeIndex: 38338 entries, 0 to 38337\n",
      "Data columns (total 12 columns):\n",
      " #   Column                Non-Null Count  Dtype\n",
      "---  ------                --------------  -----\n",
      " 0   age                   38338 non-null  int64\n",
      " 1   job                   38338 non-null  int32\n",
      " 2   marital               38338 non-null  int32\n",
      " 3   education             38338 non-null  int32\n",
      " 4   default               38338 non-null  int64\n",
      " 5   balance               38338 non-null  int64\n",
      " 6   housing               38338 non-null  int64\n",
      " 7   loan                  38338 non-null  int64\n",
      " 8   days_without_contact  38338 non-null  int64\n",
      " 9   duration              38338 non-null  int64\n",
      " 10  campaign              38338 non-null  int64\n",
      " 11  y                     38338 non-null  int64\n",
      "dtypes: int32(3), int64(9)\n",
      "memory usage: 3.1 MB\n"
     ]
    }
   ],
   "source": [
    "data.info()"
   ]
  },
  {
   "cell_type": "code",
   "execution_count": 23,
   "id": "577c0db5",
   "metadata": {},
   "outputs": [],
   "source": [
    "#Now let's seperate Features and Targets\n",
    "X = data.iloc[:,0:-1]\n",
    "y = data[\"y\"]"
   ]
  },
  {
   "cell_type": "code",
   "execution_count": 24,
   "id": "4b2855ff",
   "metadata": {},
   "outputs": [],
   "source": [
    "from sklearn.model_selection import train_test_split"
   ]
  },
  {
   "cell_type": "code",
   "execution_count": 25,
   "id": "6f07c307",
   "metadata": {},
   "outputs": [],
   "source": [
    "X_train, X_test, y_train, y_test =train_test_split(X,y,test_size=0.2,random_state=42, stratify=y)"
   ]
  },
  {
   "cell_type": "markdown",
   "id": "b3cf173d",
   "metadata": {},
   "source": [
    "## Models"
   ]
  },
  {
   "cell_type": "code",
   "execution_count": 26,
   "id": "2b3c07dd",
   "metadata": {},
   "outputs": [],
   "source": [
    "from sklearn.metrics import confusion_matrix, accuracy_score, classification_report\n",
    "from sklearn.ensemble import GradientBoostingClassifier, AdaBoostClassifier\n",
    "from sklearn.pipeline import Pipeline\n",
    "from sklearn.model_selection import GridSearchCV, KFold\n",
    "from sklearn.linear_model import LogisticRegression"
   ]
  },
  {
   "cell_type": "code",
   "execution_count": 27,
   "id": "38f9a2e7",
   "metadata": {},
   "outputs": [],
   "source": [
    "#Since the values are vary from each other, we better use the standardisation to our model to have common scale\n",
    "scaler = StandardScaler()\n",
    "scaler.fit(X)\n",
    "#I take mean and standard variation of X. Then transform function perform standardization by centering and scaling\n",
    "#according to X mean and standard variation value.\n",
    "X_train_standard = scaler.transform(X_train)\n",
    "X_test_standard = scaler.transform(X_test)\n",
    "X_standard = pd.DataFrame(scaler.transform(X), columns=X.columns)"
   ]
  },
  {
   "cell_type": "code",
   "execution_count": 28,
   "id": "c5764290",
   "metadata": {},
   "outputs": [
    {
     "name": "stdout",
     "output_type": "stream",
     "text": [
      "   Validation Accuracy\n",
      "0             0.942778\n",
      "1             0.947343\n",
      "2             0.940496\n",
      "3             0.943756\n",
      "4             0.943267\n"
     ]
    }
   ],
   "source": [
    "#In long way, first we split X_train data 5 times. \n",
    "#Extract validation values and train it in training data set. \n",
    "#After training, we calculate scores in validation data set.\n",
    "cv = KFold(n_splits=5, shuffle=True)\n",
    "CVAccuracy=[]\n",
    "for train_index, validation_index in cv.split(X_train):\n",
    "    #In order to obtain standardisation values for X_train_v and X_valid, we use standardised values of X\n",
    "    X_train_v, X_valid, Y_train_v, Y_valid = X_standard.loc[train_index], X_standard.loc[validation_index], y.loc[train_index], y.loc[validation_index]\n",
    "    lr = LogisticRegression(random_state=42)\n",
    "    # Fit the classifier to the data\n",
    "    lr.fit(X_train_v,Y_train_v)\n",
    "    #And store it in a data frame.\n",
    "    CVAccuracy.append([lr.score(X_valid, Y_valid)])\n",
    "df = pd.DataFrame (CVAccuracy,columns=['Validation Accuracy'])\n",
    "print(df)"
   ]
  },
  {
   "cell_type": "code",
   "execution_count": 29,
   "id": "6d8fe918",
   "metadata": {},
   "outputs": [
    {
     "data": {
      "text/plain": [
       "Validation Accuracy    0.943528\n",
       "dtype: float64"
      ]
     },
     "execution_count": 29,
     "metadata": {},
     "output_type": "execute_result"
    }
   ],
   "source": [
    "#Average accuracy score is obtained by taking the mean of all validation accuracy scores.\n",
    "FivefoldCVError = df.mean()\n",
    "FivefoldCVError"
   ]
  },
  {
   "cell_type": "markdown",
   "id": "8f0f9641",
   "metadata": {},
   "source": [
    "And we can do parameter tuning by changing parameter and insert them to a for loop. Instead I will use gridsearch function to do all searching and calculating KFold scores and picking the best parameter.  "
   ]
  },
  {
   "cell_type": "code",
   "execution_count": 30,
   "id": "387db855",
   "metadata": {},
   "outputs": [
    {
     "name": "stdout",
     "output_type": "stream",
     "text": [
      "Fitting 5 folds for each of 50 candidates, totalling 250 fits\n"
     ]
    },
    {
     "data": {
      "text/plain": [
       "{'classifier': GradientBoostingClassifier(learning_rate=0.01, n_estimators=5000,\n",
       "                            random_state=42),\n",
       " 'classifier__learning_rate': 0.01,\n",
       " 'classifier__max_depth': 3,\n",
       " 'classifier__n_estimators': 5000}"
      ]
     },
     "execution_count": 30,
     "metadata": {},
     "output_type": "execute_result"
    }
   ],
   "source": [
    "scaler = StandardScaler()\n",
    "pipe = Pipeline([(\"scaler\",StandardScaler()),(\"classifier\",GradientBoostingClassifier())])\n",
    "\n",
    "models = [{'classifier' : [LogisticRegression(random_state=42)],\n",
    "         'classifier__penalty' : ['l1', 'l2'],\n",
    "         'classifier__C' : [0.001, 0.01, 0.1, 1, 10, 100, 1000],\n",
    "         'classifier__solver' : ['liblinear']},\n",
    "          {\"classifier\":[GradientBoostingClassifier(random_state=42)],\n",
    "          \"classifier__learning_rate\": [1, 0.1, 0.01],\n",
    "          \"classifier__max_depth\": [1, 2, 3],\n",
    "          \"classifier__n_estimators\": [100, 1000, 5000]},\n",
    "         {\"classifier\":[AdaBoostClassifier(random_state=42)],\n",
    "          \"classifier__learning_rate\": [1, 0.1, 0.01],\n",
    "          \"classifier__n_estimators\": [100, 1000, 5000]}]\n",
    "\n",
    "boosting_search =GridSearchCV(estimator=pipe, param_grid=models, scoring= \"accuracy\", cv=5, verbose= 2 , n_jobs= -1)\n",
    "grad_grid = boosting_search.fit(X_train,y_train)\n",
    "grad_grid.best_params_"
   ]
  },
  {
   "cell_type": "code",
   "execution_count": 31,
   "id": "e8e15c1f",
   "metadata": {},
   "outputs": [
    {
     "name": "stdout",
     "output_type": "stream",
     "text": [
      "Test Accuracy: 0.9354460093896714\n"
     ]
    }
   ],
   "source": [
    "gbc=GradientBoostingClassifier(random_state=42,learning_rate=0.01,max_depth =3, n_estimators= 5000)\n",
    "gbc.fit(X_train_standard,y_train)\n",
    "y_pred = gbc.predict(X_test_standard)\n",
    "print('Test Accuracy:', accuracy_score(y_test, y_pred))"
   ]
  },
  {
   "cell_type": "code",
   "execution_count": 32,
   "id": "019d945c",
   "metadata": {},
   "outputs": [
    {
     "data": {
      "text/plain": [
       "array([[6965,  350],\n",
       "       [ 145,  208]], dtype=int64)"
      ]
     },
     "execution_count": 32,
     "metadata": {},
     "output_type": "execute_result"
    }
   ],
   "source": [
    "confusion_matrix(y_pred,y_test)"
   ]
  },
  {
   "cell_type": "code",
   "execution_count": 33,
   "id": "0d64678f",
   "metadata": {},
   "outputs": [
    {
     "name": "stdout",
     "output_type": "stream",
     "text": [
      "              precision    recall  f1-score   support\n",
      "\n",
      "           0       0.98      0.95      0.97      7315\n",
      "           1       0.37      0.59      0.46       353\n",
      "\n",
      "    accuracy                           0.94      7668\n",
      "   macro avg       0.68      0.77      0.71      7668\n",
      "weighted avg       0.95      0.94      0.94      7668\n",
      "\n"
     ]
    }
   ],
   "source": [
    "print(classification_report(y_pred,y_test))"
   ]
  },
  {
   "cell_type": "markdown",
   "id": "850feee3",
   "metadata": {},
   "source": [
    "So our False positive rate is high. Which means our models predict the customer that are actually not bought any term deposit as bought a term deposit. We need to focus on to increase true positive rates since we are interested to predict correctly the customer that actually bought a term deposit. Thus I decrease probability threshold value to get higher true positive rate even if it means that false negative rates will get higher. But since our precision for predicting the customer with having no deposit is %98 it would be fine to predict some of them wrong."
   ]
  },
  {
   "cell_type": "code",
   "execution_count": 34,
   "id": "a88e0252",
   "metadata": {},
   "outputs": [
    {
     "data": {
      "text/plain": [
       "array([0, 0, 0, ..., 0, 0, 0], dtype=int64)"
      ]
     },
     "execution_count": 34,
     "metadata": {},
     "output_type": "execute_result"
    }
   ],
   "source": [
    "y_pred"
   ]
  },
  {
   "cell_type": "code",
   "execution_count": 35,
   "id": "51fd2d3d",
   "metadata": {},
   "outputs": [],
   "source": [
    "y_pred_proba=gbc.predict_proba(X_test_standard)[::,1]"
   ]
  },
  {
   "cell_type": "code",
   "execution_count": 36,
   "id": "d19d3108",
   "metadata": {},
   "outputs": [
    {
     "data": {
      "text/plain": [
       "array([0., 1., 0., ..., 0., 0., 0.])"
      ]
     },
     "execution_count": 36,
     "metadata": {},
     "output_type": "execute_result"
    }
   ],
   "source": [
    "#Assign new threshold value as 0.1 instead of 0.5 \n",
    "#and we will predict the customers who has the probability higher thhan 0.1 as having a term deposit.\n",
    "threshold = 0.1\n",
    "y_pred = (y_pred_proba > threshold).astype('float')\n",
    "y_pred"
   ]
  },
  {
   "cell_type": "code",
   "execution_count": 37,
   "id": "267a0228",
   "metadata": {},
   "outputs": [
    {
     "data": {
      "text/plain": [
       "array([[6331,   74],\n",
       "       [ 779,  484]], dtype=int64)"
      ]
     },
     "execution_count": 37,
     "metadata": {},
     "output_type": "execute_result"
    }
   ],
   "source": [
    "confusion_matrix(y_pred,y_test)"
   ]
  },
  {
   "cell_type": "markdown",
   "id": "af72698f",
   "metadata": {},
   "source": [
    "As it seems abbove, our false pasitive rate is decreased and our accuracy rate for predicting the customers that having term deposits is increased."
   ]
  },
  {
   "cell_type": "code",
   "execution_count": 38,
   "id": "ed4fa8b8",
   "metadata": {},
   "outputs": [
    {
     "name": "stdout",
     "output_type": "stream",
     "text": [
      "              precision    recall  f1-score   support\n",
      "\n",
      "         0.0       0.89      0.99      0.94      6405\n",
      "         1.0       0.87      0.38      0.53      1263\n",
      "\n",
      "    accuracy                           0.89      7668\n",
      "   macro avg       0.88      0.69      0.73      7668\n",
      "weighted avg       0.89      0.89      0.87      7668\n",
      "\n"
     ]
    }
   ],
   "source": [
    "print(classification_report(y_pred,y_test))"
   ]
  },
  {
   "cell_type": "code",
   "execution_count": 39,
   "id": "d924c349",
   "metadata": {},
   "outputs": [],
   "source": [
    "from sklearn.metrics import plot_roc_curve"
   ]
  },
  {
   "cell_type": "code",
   "execution_count": 40,
   "id": "c5ce81f1",
   "metadata": {},
   "outputs": [
    {
     "data": {
      "text/plain": [
       "<sklearn.metrics._plot.roc_curve.RocCurveDisplay at 0x2b47cc0fd90>"
      ]
     },
     "execution_count": 40,
     "metadata": {},
     "output_type": "execute_result"
    },
    {
     "data": {
      "image/png": "[encoded data removed]",
      "text/plain": [
       "<Figure size 432x288 with 1 Axes>"
      ]
     },
     "metadata": {
      "needs_background": "light"
     },
     "output_type": "display_data"
    }
   ],
   "source": [
    "plot_roc_curve(gbc,X_test_standard,y_test)"
   ]
  },
  {
   "cell_type": "markdown",
   "id": "6a303f6e",
   "metadata": {},
   "source": [
    "AUC = 0.94 means that we have a good classifier model for our problem."
   ]
  },
  {
   "cell_type": "markdown",
   "id": "808cd29c",
   "metadata": {},
   "source": [
    "# BONUSES"
   ]
  },
  {
   "cell_type": "markdown",
   "id": "d6438e63",
   "metadata": {},
   "source": [
    "## Feature Importance"
   ]
  },
  {
   "cell_type": "code",
   "execution_count": 41,
   "id": "541ec1d2",
   "metadata": {},
   "outputs": [
    {
     "data": {
      "text/plain": [
       "array([0.04728848, 0.00783869, 0.00866984, 0.00421473, 0.00084807,\n",
       "       0.02706946, 0.01204266, 0.00112189, 0.22893857, 0.6529899 ,\n",
       "       0.00897771])"
      ]
     },
     "execution_count": 41,
     "metadata": {},
     "output_type": "execute_result"
    }
   ],
   "source": [
    "#Let's take feature importance coefficients for our model\n",
    "gbc.feature_importances_"
   ]
  },
  {
   "cell_type": "code",
   "execution_count": 42,
   "id": "bb6c96eb",
   "metadata": {},
   "outputs": [
    {
     "data": {
      "text/plain": [
       "{'age': 0.04728847559347543,\n",
       " 'job': 0.007838691216017614,\n",
       " 'marital': 0.008669840727793976,\n",
       " 'education': 0.0042147343220379834,\n",
       " 'default': 0.0008480677491546808,\n",
       " 'balance': 0.027069459119901943,\n",
       " 'housing': 0.012042659899547817,\n",
       " 'loan': 0.0011218909767859058,\n",
       " 'days_without_contact': 0.22893856753495204,\n",
       " 'duration': 0.6529899020312833,\n",
       " 'campaign': 0.008977710829049362}"
      ]
     },
     "execution_count": 42,
     "metadata": {},
     "output_type": "execute_result"
    }
   ],
   "source": [
    "#Store it in a dictionary\n",
    "feats ={}\n",
    "\n",
    "for feature,importances in zip(X.columns, gbc.feature_importances_):\n",
    "    feats[feature]=importances    \n",
    "feats"
   ]
  },
  {
   "cell_type": "code",
   "execution_count": 43,
   "id": "3b8dc2c0",
   "metadata": {},
   "outputs": [],
   "source": [
    "#then in a data frame\n",
    "Gini_importance = pd.DataFrame.from_dict(feats, orient=\"index\")"
   ]
  },
  {
   "cell_type": "code",
   "execution_count": 44,
   "id": "1602f363",
   "metadata": {},
   "outputs": [],
   "source": [
    "Gini_importance.set_axis([\"Gini_Importance\"],axis=1, inplace=True)"
   ]
  },
  {
   "cell_type": "code",
   "execution_count": 45,
   "id": "8602b3f5",
   "metadata": {},
   "outputs": [
    {
     "data": {
      "image/png": "[encoded data removed]",
      "text/plain": [
       "<Figure size 432x288 with 1 Axes>"
      ]
     },
     "metadata": {
      "needs_background": "light"
     },
     "output_type": "display_data"
    }
   ],
   "source": [
    "#Plot the feature importances\n",
    "plt.barh(Gini_importance.index,Gini_importance[\"Gini_Importance\"])\n",
    "plt.xlabel(\"Gini_Coeficciant\")\n",
    "plt.show()"
   ]
  },
  {
   "cell_type": "markdown",
   "id": "e122be64",
   "metadata": {},
   "source": [
    "It seems like duration and days without contact is the most important 2 features in our data with approximately 88%. So We can may be optimise our duration time in phones and determine the critical days passed without contacting a customer."
   ]
  },
  {
   "cell_type": "code",
   "execution_count": 46,
   "id": "75c59747",
   "metadata": {},
   "outputs": [],
   "source": [
    "duration = pd.crosstab(index=data.duration, columns=data.y)"
   ]
  },
  {
   "cell_type": "code",
   "execution_count": 47,
   "id": "ce576600",
   "metadata": {},
   "outputs": [
    {
     "data": {
      "text/html": [
       "<div>\n",
       "<style scoped>\n",
       "    .dataframe tbody tr th:only-of-type {\n",
       "        vertical-align: middle;\n",
       "    }\n",
       "\n",
       "    .dataframe tbody tr th {\n",
       "        vertical-align: top;\n",
       "    }\n",
       "\n",
       "    .dataframe thead th {\n",
       "        text-align: right;\n",
       "    }\n",
       "</style>\n",
       "<table border=\"1\" class=\"dataframe\">\n",
       "  <thead>\n",
       "    <tr style=\"text-align: right;\">\n",
       "      <th>y</th>\n",
       "      <th>0</th>\n",
       "      <th>1</th>\n",
       "    </tr>\n",
       "    <tr>\n",
       "      <th>duration</th>\n",
       "      <th></th>\n",
       "      <th></th>\n",
       "    </tr>\n",
       "  </thead>\n",
       "  <tbody>\n",
       "    <tr>\n",
       "      <th>65</th>\n",
       "      <td>125</td>\n",
       "      <td>3</td>\n",
       "    </tr>\n",
       "    <tr>\n",
       "      <th>71</th>\n",
       "      <td>143</td>\n",
       "      <td>2</td>\n",
       "    </tr>\n",
       "    <tr>\n",
       "      <th>75</th>\n",
       "      <td>126</td>\n",
       "      <td>2</td>\n",
       "    </tr>\n",
       "    <tr>\n",
       "      <th>80</th>\n",
       "      <td>144</td>\n",
       "      <td>5</td>\n",
       "    </tr>\n",
       "    <tr>\n",
       "      <th>82</th>\n",
       "      <td>147</td>\n",
       "      <td>2</td>\n",
       "    </tr>\n",
       "    <tr>\n",
       "      <th>...</th>\n",
       "      <td>...</td>\n",
       "      <td>...</td>\n",
       "    </tr>\n",
       "    <tr>\n",
       "      <th>1721</th>\n",
       "      <td>0</td>\n",
       "      <td>2</td>\n",
       "    </tr>\n",
       "    <tr>\n",
       "      <th>1776</th>\n",
       "      <td>0</td>\n",
       "      <td>2</td>\n",
       "    </tr>\n",
       "    <tr>\n",
       "      <th>1871</th>\n",
       "      <td>0</td>\n",
       "      <td>2</td>\n",
       "    </tr>\n",
       "    <tr>\n",
       "      <th>1877</th>\n",
       "      <td>0</td>\n",
       "      <td>2</td>\n",
       "    </tr>\n",
       "    <tr>\n",
       "      <th>2016</th>\n",
       "      <td>0</td>\n",
       "      <td>2</td>\n",
       "    </tr>\n",
       "  </tbody>\n",
       "</table>\n",
       "<p>765 rows × 2 columns</p>\n",
       "</div>"
      ],
      "text/plain": [
       "y           0  1\n",
       "duration        \n",
       "65        125  3\n",
       "71        143  2\n",
       "75        126  2\n",
       "80        144  5\n",
       "82        147  2\n",
       "...       ... ..\n",
       "1721        0  2\n",
       "1776        0  2\n",
       "1871        0  2\n",
       "1877        0  2\n",
       "2016        0  2\n",
       "\n",
       "[765 rows x 2 columns]"
      ]
     },
     "execution_count": 47,
     "metadata": {},
     "output_type": "execute_result"
    }
   ],
   "source": [
    "duration[duration[1]>duration[1].mean()]"
   ]
  },
  {
   "cell_type": "markdown",
   "id": "e0e48120",
   "metadata": {},
   "source": [
    "It seems like we can influance our customers between 65 and 2016 seconds since in those values it performs better from the mean values of overall."
   ]
  },
  {
   "cell_type": "code",
   "execution_count": 48,
   "id": "89d22f75",
   "metadata": {},
   "outputs": [],
   "source": [
    "dwc=pd.crosstab(index=data.days_without_contact, columns=data.y)"
   ]
  },
  {
   "cell_type": "code",
   "execution_count": 49,
   "id": "4be03116",
   "metadata": {},
   "outputs": [
    {
     "data": {
      "text/html": [
       "<div>\n",
       "<style scoped>\n",
       "    .dataframe tbody tr th:only-of-type {\n",
       "        vertical-align: middle;\n",
       "    }\n",
       "\n",
       "    .dataframe tbody tr th {\n",
       "        vertical-align: top;\n",
       "    }\n",
       "\n",
       "    .dataframe thead th {\n",
       "        text-align: right;\n",
       "    }\n",
       "</style>\n",
       "<table border=\"1\" class=\"dataframe\">\n",
       "  <thead>\n",
       "    <tr style=\"text-align: right;\">\n",
       "      <th>y</th>\n",
       "      <th>0</th>\n",
       "      <th>1</th>\n",
       "    </tr>\n",
       "    <tr>\n",
       "      <th>days_without_contact</th>\n",
       "      <th></th>\n",
       "      <th></th>\n",
       "    </tr>\n",
       "  </thead>\n",
       "  <tbody>\n",
       "    <tr>\n",
       "      <th>36</th>\n",
       "      <td>731</td>\n",
       "      <td>62</td>\n",
       "    </tr>\n",
       "    <tr>\n",
       "      <th>37</th>\n",
       "      <td>684</td>\n",
       "      <td>51</td>\n",
       "    </tr>\n",
       "    <tr>\n",
       "      <th>38</th>\n",
       "      <td>635</td>\n",
       "      <td>34</td>\n",
       "    </tr>\n",
       "    <tr>\n",
       "      <th>39</th>\n",
       "      <td>675</td>\n",
       "      <td>24</td>\n",
       "    </tr>\n",
       "    <tr>\n",
       "      <th>40</th>\n",
       "      <td>514</td>\n",
       "      <td>16</td>\n",
       "    </tr>\n",
       "    <tr>\n",
       "      <th>...</th>\n",
       "      <td>...</td>\n",
       "      <td>...</td>\n",
       "    </tr>\n",
       "    <tr>\n",
       "      <th>324</th>\n",
       "      <td>215</td>\n",
       "      <td>16</td>\n",
       "    </tr>\n",
       "    <tr>\n",
       "      <th>325</th>\n",
       "      <td>369</td>\n",
       "      <td>27</td>\n",
       "    </tr>\n",
       "    <tr>\n",
       "      <th>326</th>\n",
       "      <td>385</td>\n",
       "      <td>31</td>\n",
       "    </tr>\n",
       "    <tr>\n",
       "      <th>327</th>\n",
       "      <td>278</td>\n",
       "      <td>24</td>\n",
       "    </tr>\n",
       "    <tr>\n",
       "      <th>328</th>\n",
       "      <td>455</td>\n",
       "      <td>34</td>\n",
       "    </tr>\n",
       "  </tbody>\n",
       "</table>\n",
       "<p>73 rows × 2 columns</p>\n",
       "</div>"
      ],
      "text/plain": [
       "y                       0   1\n",
       "days_without_contact         \n",
       "36                    731  62\n",
       "37                    684  51\n",
       "38                    635  34\n",
       "39                    675  24\n",
       "40                    514  16\n",
       "...                   ...  ..\n",
       "324                   215  16\n",
       "325                   369  27\n",
       "326                   385  31\n",
       "327                   278  24\n",
       "328                   455  34\n",
       "\n",
       "[73 rows x 2 columns]"
      ]
     },
     "execution_count": 49,
     "metadata": {},
     "output_type": "execute_result"
    }
   ],
   "source": [
    "dwc[dwc[1]>dwc[1].mean()]"
   ]
  },
  {
   "cell_type": "markdown",
   "id": "05486bcd",
   "metadata": {},
   "source": [
    "It seems like we should have prioritse the customers that we communicated the last 36 and 328 days since those are in the above average of the customers that have term deposit."
   ]
  },
  {
   "cell_type": "markdown",
   "id": "4740ebe0",
   "metadata": {},
   "source": [
    "## Classification"
   ]
  },
  {
   "cell_type": "code",
   "execution_count": 50,
   "id": "5028052f",
   "metadata": {},
   "outputs": [],
   "source": [
    "#At first let's standardise our data and store it in a data frame\n",
    "scaler = StandardScaler()\n",
    "scaler.fit(data)\n",
    "scaler_df = pd.DataFrame(scaler.transform(data), columns=data.columns)"
   ]
  },
  {
   "cell_type": "code",
   "execution_count": 51,
   "id": "79c7fa1f",
   "metadata": {},
   "outputs": [],
   "source": [
    "#Import the necessary library which is K Means Cluster\n",
    "from sklearn.cluster import KMeans"
   ]
  },
  {
   "cell_type": "code",
   "execution_count": 52,
   "id": "3db9332c",
   "metadata": {},
   "outputs": [],
   "source": [
    "#Let's calculate inertias for each and all clusters\n",
    "inertias=[]\n",
    "KMeans()\n",
    "for i in range(1,11):\n",
    "    kmeans = KMeans(n_clusters= i, init='k-means++', random_state=0)\n",
    "    kmeans.fit(scaler_df)\n",
    "    inertias.append(kmeans.inertia_)"
   ]
  },
  {
   "cell_type": "code",
   "execution_count": 53,
   "id": "9cd8c4b0",
   "metadata": {},
   "outputs": [
    {
     "data": {
      "image/png": "[encoded data removed]",
      "text/plain": [
       "<Figure size 432x288 with 1 Axes>"
      ]
     },
     "metadata": {
      "needs_background": "light"
     },
     "output_type": "display_data"
    }
   ],
   "source": [
    "#Visualizing the ELBOW method to get the optimal value of K \n",
    "plt.plot(range(1,11), inertias)\n",
    "plt.title('The Elbow Method')\n",
    "plt.xlabel('no of clusters')\n",
    "plt.ylabel('wcss')\n",
    "plt.show()"
   ]
  },
  {
   "cell_type": "code",
   "execution_count": 54,
   "id": "e20cb7a5",
   "metadata": {},
   "outputs": [],
   "source": [
    "#From above, after 5th cluster, inertias improvement started to getting worse. So 5 clusters will be applied.\n",
    "kmeansmodel = KMeans(n_clusters= 5, init='k-means++', random_state=0)\n",
    "y_kmeans= kmeansmodel.fit_predict(scaler_df)"
   ]
  },
  {
   "cell_type": "code",
   "execution_count": 55,
   "id": "7422f9c2",
   "metadata": {},
   "outputs": [],
   "source": [
    "#Let's add clusters in our original data\n",
    "data[\"Clusters\"] = y_kmeans"
   ]
  },
  {
   "cell_type": "code",
   "execution_count": 56,
   "id": "3f5ba37d",
   "metadata": {},
   "outputs": [
    {
     "data": {
      "image/png": "[encoded data removed]",
      "text/plain": [
       "<Figure size 432x288 with 1 Axes>"
      ]
     },
     "metadata": {
      "needs_background": "light"
     },
     "output_type": "display_data"
    }
   ],
   "source": [
    "sns.countplot(data=data,x=data[\"Clusters\"]).set_title(\"Distribution Of The Clusters\")\n",
    "plt.show()"
   ]
  },
  {
   "cell_type": "code",
   "execution_count": 57,
   "id": "3925edd9",
   "metadata": {},
   "outputs": [
    {
     "data": {
      "text/html": [
       "<div>\n",
       "<style scoped>\n",
       "    .dataframe tbody tr th:only-of-type {\n",
       "        vertical-align: middle;\n",
       "    }\n",
       "\n",
       "    .dataframe tbody tr th {\n",
       "        vertical-align: top;\n",
       "    }\n",
       "\n",
       "    .dataframe thead th {\n",
       "        text-align: right;\n",
       "    }\n",
       "</style>\n",
       "<table border=\"1\" class=\"dataframe\">\n",
       "  <thead>\n",
       "    <tr style=\"text-align: right;\">\n",
       "      <th>Clusters</th>\n",
       "      <th>0</th>\n",
       "      <th>1</th>\n",
       "      <th>2</th>\n",
       "      <th>3</th>\n",
       "      <th>4</th>\n",
       "    </tr>\n",
       "    <tr>\n",
       "      <th>y</th>\n",
       "      <th></th>\n",
       "      <th></th>\n",
       "      <th></th>\n",
       "      <th></th>\n",
       "      <th></th>\n",
       "    </tr>\n",
       "  </thead>\n",
       "  <tbody>\n",
       "    <tr>\n",
       "      <th>0</th>\n",
       "      <td>6140</td>\n",
       "      <td>16991</td>\n",
       "      <td>11615</td>\n",
       "      <td>731</td>\n",
       "      <td>69</td>\n",
       "    </tr>\n",
       "    <tr>\n",
       "      <th>1</th>\n",
       "      <td>0</td>\n",
       "      <td>0</td>\n",
       "      <td>0</td>\n",
       "      <td>45</td>\n",
       "      <td>2747</td>\n",
       "    </tr>\n",
       "  </tbody>\n",
       "</table>\n",
       "</div>"
      ],
      "text/plain": [
       "Clusters     0      1      2    3     4\n",
       "y                                      \n",
       "0         6140  16991  11615  731    69\n",
       "1            0      0      0   45  2747"
      ]
     },
     "execution_count": 57,
     "metadata": {},
     "output_type": "execute_result"
    }
   ],
   "source": [
    "#Let's see which cluster has the customers that have a term deposit\n",
    "pd.crosstab(index=data.y,columns=data.Clusters)"
   ]
  },
  {
   "cell_type": "code",
   "execution_count": 58,
   "id": "e4483c1b",
   "metadata": {},
   "outputs": [
    {
     "data": {
      "image/png": "[encoded data removed]",
      "text/plain": [
       "<Figure size 1488.75x180 with 8 Axes>"
      ]
     },
     "metadata": {
      "needs_background": "light"
     },
     "output_type": "display_data"
    }
   ],
   "source": [
    "#Let's draw pairplot according to feature importance values.\n",
    "sns.pairplot(data,x_vars=[\"campaign\",\"duration\",\"days_without_contact\",\"housing\",\"balance\",\"marital\",\"job\",\"age\"],y_vars=[\"y\"],hue=\"Clusters\")\n",
    "plt.show()"
   ]
  },
  {
   "cell_type": "markdown",
   "id": "4f60117e",
   "metadata": {},
   "source": [
    "From above, we can clearly state that campaign and balance can give us some insights."
   ]
  },
  {
   "cell_type": "code",
   "execution_count": 59,
   "id": "54709398",
   "metadata": {},
   "outputs": [
    {
     "data": {
      "image/png": "[encoded data removed]",
      "text/plain": [
       "<Figure size 408.75x180 with 2 Axes>"
      ]
     },
     "metadata": {
      "needs_background": "light"
     },
     "output_type": "display_data"
    }
   ],
   "source": [
    "sns.pairplot(data,x_vars=[\"campaign\",\"balance\"],y_vars=[\"y\"],hue=\"Clusters\")\n",
    "plt.show()"
   ]
  },
  {
   "cell_type": "markdown",
   "id": "320995c9",
   "metadata": {},
   "source": [
    "We should focus on the customers that have less than 40 campaigns and have less than 50000 €"
   ]
  },
  {
   "cell_type": "code",
   "execution_count": 60,
   "id": "f601147c",
   "metadata": {},
   "outputs": [
    {
     "data": {
      "image/png": "[encoded data removed]",
      "text/plain": [
       "<Figure size 432x288 with 1 Axes>"
      ]
     },
     "metadata": {
      "needs_background": "light"
     },
     "output_type": "display_data"
    }
   ],
   "source": [
    "#Let's plot those graphs one by one\n",
    "sns.scatterplot(data=data,x=data[\"balance\"],y=data[\"y\"],hue=data[\"Clusters\"]).set_title(\"Balance-Subscribe term deposit Clusters\")\n",
    "plt.show()"
   ]
  },
  {
   "cell_type": "code",
   "execution_count": 61,
   "id": "617e9d1d",
   "metadata": {},
   "outputs": [
    {
     "data": {
      "image/png": "[encoded data removed]",
      "text/plain": [
       "<Figure size 432x288 with 1 Axes>"
      ]
     },
     "metadata": {
      "needs_background": "light"
     },
     "output_type": "display_data"
    }
   ],
   "source": [
    "sns.scatterplot(data=data,x=data[\"campaign\"],y=data[\"y\"],hue=data[\"Clusters\"]).set_title(\"Campaign-Subscribe term deposit Clusters\")\n",
    "plt.show()"
   ]
  },
  {
   "cell_type": "markdown",
   "id": "d773e5b6",
   "metadata": {},
   "source": [
    "## SUMMARY\n",
    "\n",
    " In the scope of this project data preprocessing, applying 3 different machine learning classification algorithm and fine tuning parameters has been done. In the scope of the bonus problems, feature importances are determined and customer segmentation has been done."
   ]
  }
 ],
 "metadata": {
  "kernelspec": {
   "display_name": "Python 3",
   "language": "python",
   "name": "python3"
  },
  "language_info": {
   "codemirror_mode": {
    "name": "ipython",
    "version": 3
   },
   "file_extension": ".py",
   "mimetype": "text/x-python",
   "name": "python",
   "nbconvert_exporter": "python",
   "pygments_lexer": "ipython3",
   "version": "3.8.8"
  },
  "varInspector": {
   "cols": {
    "lenName": 16,
    "lenType": 16,
    "lenVar": 40
   },
   "kernels_config": {
    "python": {
     "delete_cmd_postfix": "",
     "delete_cmd_prefix": "del ",
     "library": "var_list.py",
     "varRefreshCmd": "print(var_dic_list())"
    },
    "r": {
     "delete_cmd_postfix": ") ",
     "delete_cmd_prefix": "rm(",
     "library": "var_list.r",
     "varRefreshCmd": "cat(var_dic_list()) "
    }
   },
   "types_to_exclude": [
    "module",
    "function",
    "builtin_function_or_method",
    "instance",
    "_Feature"
   ],
   "window_display": false
  }
 },
 "nbformat": 4,
 "nbformat_minor": 5
}
